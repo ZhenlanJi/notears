{
 "cells": [
  {
   "cell_type": "code",
   "execution_count": 1,
   "metadata": {},
   "outputs": [],
   "source": [
    "import pandas as pd\n",
    "import numpy as np\n",
    "import os"
   ]
  },
  {
   "cell_type": "code",
   "execution_count": 2,
   "metadata": {},
   "outputs": [
    {
     "data": {
      "text/plain": [
       "(281, 41)"
      ]
     },
     "execution_count": 2,
     "metadata": {},
     "output_type": "execute_result"
    }
   ],
   "source": [
    "data_np=np.loadtxt('new_df.csv', delimiter=',')\n",
    "data_np.shape"
   ]
  },
  {
   "cell_type": "code",
   "execution_count": 3,
   "metadata": {},
   "outputs": [
    {
     "data": {
      "text/plain": [
       "array([], shape=(0, 2), dtype=int64)"
      ]
     },
     "execution_count": 3,
     "metadata": {},
     "output_type": "execute_result"
    }
   ],
   "source": [
    "np.argwhere(np.isnan(data_np))"
   ]
  },
  {
   "cell_type": "code",
   "execution_count": 4,
   "metadata": {},
   "outputs": [],
   "source": [
    "data_df = pd.read_csv('combined.csv')\n",
    "graph_df = pd.read_csv('W_est.csv', header=None)\n",
    "nodes_list = data_df.columns[1:].to_list()\n"
   ]
  },
  {
   "cell_type": "code",
   "execution_count": 5,
   "metadata": {},
   "outputs": [
    {
     "name": "stdout",
     "output_type": "stream",
     "text": [
      "cf_size__default -> cf_size__raft;\n",
      "cf_size__default -> Hot_write_Regions_leader_distribution__1;\n",
      "cf_size__default -> Hot_write_Regions_leader_distribution__25072;\n",
      "cf_size__lock -> Hot_write_Regions_leader_distribution__1;\n",
      "cf_size__lock -> KV_Backoff_OPS__regionScheduling;\n",
      "cf_size__write -> Hot_write_Regions_leader_distribution__1;\n",
      "CPU__basic_tikv_1 -> cf_size__raft;\n",
      "CPU__basic_tikv_1 -> Hot_write_Regions_leader_distribution__1;\n",
      "CPU__basic_tikv_1 -> Memory_Usage_HeapInuse__basic_tidb_0;\n",
      "CPU__basic_tikv_1 -> TiClient_Region_Error_OPS__stale_command;\n",
      "CPU__basic_tikv_1 -> TiClient_Region_Error_OPS__unknown;\n",
      "CPU__basic_tikv_2 -> Hot_write_Regions_leader_distribution__1;\n",
      "CPU__basic_tikv_2 -> Hot_write_Regions_leader_distribution__25072;\n",
      "Duration_99__None -> Hot_write_Regions_leader_distribution__1;\n",
      "Handle_requests_duration_seconds_average__tso -> Hot_write_Regions_leader_distribution__1;\n",
      "Hot_write_Regions_leader_distribution__25072 -> Hot_write_Regions_leader_distribution__1;\n",
      "Hot_write_Regions_leader_distribution__25029 -> Hot_write_Regions_leader_distribution__25072;\n",
      "KV_Backoff_OPS__regionMiss -> cf_size__raft;\n",
      "KV_Backoff_OPS__regionMiss -> Hot_write_Regions_leader_distribution__25072;\n",
      "KV_Backoff_OPS__regionMiss -> KV_Backoff_OPS__regionScheduling;\n",
      "KV_Backoff_OPS__regionScheduling -> cf_size__raft;\n",
      "KV_Backoff_OPS__tikvLockFast -> cf_size__raft;\n",
      "KV_Backoff_OPS__tikvLockFast -> KV_Backoff_OPS__regionScheduling;\n",
      "KV_Backoff_OPS__tikvRPC -> cf_size__write;\n",
      "KV_Backoff_OPS__tikvRPC -> Hot_write_Regions_leader_distribution__1;\n",
      "KV_Backoff_OPS__tikvRPC -> KV_Backoff_OPS__regionScheduling;\n",
      "KV_Backoff_OPS__tikvRPC -> KV_Cmd_OPS__lock_keys;\n",
      "KV_Cmd_OPS__batch_get -> cf_size__raft;\n",
      "KV_Cmd_OPS__batch_get -> KV_Backoff_OPS__regionScheduling;\n",
      "KV_Cmd_OPS__commit -> cf_size__raft;\n",
      "KV_Cmd_OPS__commit -> Handle_requests_duration_seconds_average__tso;\n",
      "KV_Cmd_OPS__commit -> Hot_write_Regions_leader_distribution__1;\n",
      "KV_Cmd_OPS__commit -> Memory_Usage_process__basic_tidb_1;\n",
      "KV_Cmd_OPS__get -> Hot_write_Regions_leader_distribution__1;\n",
      "KV_Cmd_OPS__get -> Transaction_OPS__commit;\n",
      "KV_Cmd_OPS__rollback -> KV_Backoff_OPS__regionMiss;\n",
      "KV_Cmd_OPS__rollback -> Memory__basic_tikv_0;\n",
      "KV_Cmd_OPS__rollback -> Statement_OPS__Begin;\n",
      "KV_Cmd_OPS__rollback -> TiClient_Region_Error_OPS__unknown;\n",
      "Memory__basic_tikv_0 -> KV_Backoff_OPS__regionScheduling;\n",
      "Memory__basic_tikv_1 -> cf_size__raft;\n",
      "Memory__basic_tikv_1 -> Hot_write_Regions_leader_distribution__25072;\n",
      "Memory__basic_tikv_1 -> Transaction_OPS__commit;\n",
      "Memory__basic_tikv_2 -> Hot_write_Regions_leader_distribution__25072;\n",
      "Memory__basic_tikv_2 -> Memory_Usage_HeapInuse__basic_tidb_1;\n",
      "Memory_Usage_HeapInuse__basic_tidb_0 -> Hot_write_Regions_leader_distribution__1;\n",
      "Memory_Usage_HeapInuse__basic_tidb_1 -> Hot_write_Regions_leader_distribution__1;\n",
      "Memory_Usage_HeapInuse__basic_tidb_1 -> KV_Backoff_OPS__regionScheduling;\n",
      "Memory_Usage_HeapInuse__basic_tidb_1 -> Transaction_OPS__commit;\n",
      "Memory_Usage_process__basic_tidb_0 -> cf_size__raft;\n",
      "Memory_Usage_process__basic_tidb_0 -> Hot_write_Regions_leader_distribution__1;\n",
      "Memory_Usage_process__basic_tidb_1 -> Hot_write_Regions_leader_distribution__1;\n",
      "Statement_OPS__Begin -> KV_Backoff_OPS__regionScheduling;\n",
      "Statement_OPS__Commit -> cf_size__raft;\n",
      "Statement_OPS__Commit -> Hot_write_Regions_leader_distribution__1;\n",
      "Statement_OPS__Commit -> Hot_write_Regions_leader_distribution__25072;\n",
      "Statement_OPS__Commit -> KV_Backoff_OPS__regionScheduling;\n",
      "Statement_OPS__Commit -> Memory_Usage_HeapInuse__basic_tidb_1;\n",
      "Statement_OPS__Commit -> TiClient_Region_Error_OPS__not_leader;\n",
      "Statement_OPS__Delete -> cf_size__default;\n",
      "Statement_OPS__Delete -> cf_size__raft;\n",
      "Statement_OPS__Delete -> cf_size__write;\n",
      "Statement_OPS__Delete -> KV_Backoff_OPS__regionScheduling;\n",
      "Statement_OPS__Delete -> KV_Backoff_OPS__tikvRPC;\n",
      "Statement_OPS__Delete -> Memory__basic_tikv_2;\n",
      "Statement_OPS__Delete -> Memory_Usage_HeapInuse__basic_tidb_1;\n",
      "Statement_OPS__Delete -> Memory_Usage_process__basic_tidb_0;\n",
      "Statement_OPS__Delete -> Statement_OPS__Begin;\n",
      "Statement_OPS__Delete -> Statement_OPS__Commit;\n",
      "Statement_OPS__Delete -> TiClient_Region_Error_OPS__epoch_not_match;\n",
      "Statement_OPS__Insert -> cf_size__default;\n",
      "Statement_OPS__Insert -> CPU__basic_tikv_2;\n",
      "Statement_OPS__Insert -> Hot_write_Regions_leader_distribution__1;\n",
      "Statement_OPS__Insert -> KV_Backoff_OPS__regionScheduling;\n",
      "Statement_OPS__Insert -> KV_Cmd_OPS__get;\n",
      "Statement_OPS__Insert -> KV_Cmd_OPS__lock_keys;\n",
      "Statement_OPS__Insert -> Memory_Usage_process__basic_tidb_0;\n",
      "Statement_OPS__Insert -> TiClient_Region_Error_OPS__not_leader;\n",
      "Statement_OPS__Insert -> TiClient_Region_Error_OPS__stale_command;\n",
      "Statement_OPS__Insert -> Transaction_OPS__rollback;\n",
      "Statement_OPS__RollBack -> Hot_write_Regions_leader_distribution__1;\n",
      "Statement_OPS__Select -> Hot_write_Regions_leader_distribution__1;\n",
      "Statement_OPS__Update -> cf_size__raft;\n",
      "TiClient_Region_Error_OPS__epoch_not_match -> cf_size__raft;\n",
      "TiClient_Region_Error_OPS__epoch_not_match -> KV_Backoff_OPS__regionScheduling;\n",
      "TiClient_Region_Error_OPS__stale_command -> cf_size__raft;\n",
      "TiClient_Region_Error_OPS__stale_command -> Hot_write_Regions_leader_distribution__1;\n",
      "TiClient_Region_Error_OPS__stale_command -> TiClient_Region_Error_OPS__not_leader;\n",
      "TiClient_Region_Error_OPS__unknown -> TiClient_Region_Error_OPS__not_leader;\n",
      "TiClient_Region_Error_OPS__unknown -> Transaction_OPS__commit;\n",
      "Transaction_OPS__commit -> Hot_write_Regions_leader_distribution__1;\n",
      "Transaction_OPS__commit -> TiClient_Region_Error_OPS__not_leader;\n",
      "Transaction_OPS__rollback -> cf_size__raft;\n",
      "Transaction_OPS__rollback -> Hot_write_Regions_leader_distribution__1;\n"
     ]
    }
   ],
   "source": [
    "edges=graph_df.to_numpy().nonzero()\n",
    "for x, y in zip(edges[0], edges[1]):\n",
    "    print(f\"{nodes_list[x]} -> {nodes_list[y]};\")"
   ]
  },
  {
   "cell_type": "code",
   "execution_count": 14,
   "metadata": {},
   "outputs": [
    {
     "data": {
      "text/plain": [
       "28.459847327290767"
      ]
     },
     "execution_count": 14,
     "metadata": {},
     "output_type": "execute_result"
    }
   ],
   "source": []
  }
 ],
 "metadata": {
  "interpreter": {
   "hash": "c810ff770b6d0e913a42fdf960a98f7838929ab86424059e7c438586f54055c0"
  },
  "kernelspec": {
   "display_name": "Python 3.9.7 ('torch')",
   "language": "python",
   "name": "python3"
  },
  "language_info": {
   "codemirror_mode": {
    "name": "ipython",
    "version": 3
   },
   "file_extension": ".py",
   "mimetype": "text/x-python",
   "name": "python",
   "nbconvert_exporter": "python",
   "pygments_lexer": "ipython3",
   "version": "3.9.7"
  },
  "orig_nbformat": 4
 },
 "nbformat": 4,
 "nbformat_minor": 2
}
